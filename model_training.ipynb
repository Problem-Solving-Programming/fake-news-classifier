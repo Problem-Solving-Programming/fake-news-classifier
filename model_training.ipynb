{
  "nbformat": 4,
  "nbformat_minor": 0,
  "metadata": {
    "colab": {
      "provenance": []
    },
    "kernelspec": {
      "name": "python3",
      "display_name": "Python 3"
    },
    "language_info": {
      "name": "python"
    }
  },
  "cells": [
    {
      "cell_type": "code",
      "execution_count": 4,
      "metadata": {
        "colab": {
          "base_uri": "https://localhost:8080/"
        },
        "id": "ES8L480uQ008",
        "outputId": "3ab114ce-eb6b-49af-f5fc-bc0d41aa1622"
      },
      "outputs": [
        {
          "output_type": "stream",
          "name": "stdout",
          "text": [
            "📌 Logistic Regression\n",
            "              precision    recall  f1-score   support\n",
            "\n",
            "        FAKE       0.78      0.84      0.81      4247\n",
            "        REAL       0.84      0.79      0.82      4733\n",
            "\n",
            "    accuracy                           0.81      8980\n",
            "   macro avg       0.81      0.81      0.81      8980\n",
            "weighted avg       0.81      0.81      0.81      8980\n",
            "\n",
            "--------------------------------------------------\n",
            "📌 Random Forest\n",
            "              precision    recall  f1-score   support\n",
            "\n",
            "        FAKE       0.83      0.85      0.84      4247\n",
            "        REAL       0.86      0.84      0.85      4733\n",
            "\n",
            "    accuracy                           0.84      8980\n",
            "   macro avg       0.84      0.84      0.84      8980\n",
            "weighted avg       0.84      0.84      0.84      8980\n",
            "\n",
            "--------------------------------------------------\n"
          ]
        },
        {
          "output_type": "stream",
          "name": "stderr",
          "text": [
            "/usr/local/lib/python3.11/dist-packages/xgboost/core.py:158: UserWarning: [08:02:10] WARNING: /workspace/src/learner.cc:740: \n",
            "Parameters: { \"use_label_encoder\" } are not used.\n",
            "\n",
            "  warnings.warn(smsg, UserWarning)\n"
          ]
        },
        {
          "output_type": "stream",
          "name": "stdout",
          "text": [
            "📌 XGBoost\n",
            "              precision    recall  f1-score   support\n",
            "\n",
            "        FAKE       0.80      0.89      0.84      4247\n",
            "        REAL       0.89      0.81      0.85      4733\n",
            "\n",
            "    accuracy                           0.85      8980\n",
            "   macro avg       0.85      0.85      0.85      8980\n",
            "weighted avg       0.85      0.85      0.85      8980\n",
            "\n",
            "--------------------------------------------------\n",
            "📌 SVM\n",
            "              precision    recall  f1-score   support\n",
            "\n",
            "        FAKE       0.77      0.90      0.83      4247\n",
            "        REAL       0.89      0.76      0.82      4733\n",
            "\n",
            "    accuracy                           0.82      8980\n",
            "   macro avg       0.83      0.83      0.82      8980\n",
            "weighted avg       0.83      0.82      0.82      8980\n",
            "\n",
            "--------------------------------------------------\n",
            "📌 Naive Bayes\n",
            "              precision    recall  f1-score   support\n",
            "\n",
            "        FAKE       0.73      0.90      0.80      4247\n",
            "        REAL       0.88      0.70      0.78      4733\n",
            "\n",
            "    accuracy                           0.79      8980\n",
            "   macro avg       0.81      0.80      0.79      8980\n",
            "weighted avg       0.81      0.79      0.79      8980\n",
            "\n",
            "--------------------------------------------------\n",
            "📌 KNN\n",
            "              precision    recall  f1-score   support\n",
            "\n",
            "        FAKE       0.80      0.84      0.82      4247\n",
            "        REAL       0.85      0.81      0.83      4733\n",
            "\n",
            "    accuracy                           0.82      8980\n",
            "   macro avg       0.82      0.82      0.82      8980\n",
            "weighted avg       0.82      0.82      0.82      8980\n",
            "\n",
            "--------------------------------------------------\n",
            "\n",
            "🎯 모델 성능 비교:\n",
            "                 Model  Accuracy  F1 Score\n",
            "1        Random Forest  0.843096  0.849610\n",
            "2              XGBoost  0.845323  0.846128\n",
            "5                  KNN  0.821158  0.826190\n",
            "3                  SVM  0.823497  0.818878\n",
            "0  Logistic Regression  0.811804  0.815542\n",
            "4          Naive Bayes  0.792428  0.779877\n"
          ]
        }
      ],
      "source": [
        "import pandas as pd\n",
        "from sklearn.model_selection import train_test_split\n",
        "from sklearn.preprocessing import LabelEncoder, StandardScaler\n",
        "from sklearn.metrics import accuracy_score, f1_score, classification_report\n",
        "from sklearn.linear_model import LogisticRegression\n",
        "from sklearn.ensemble import RandomForestClassifier\n",
        "from sklearn.svm import SVC\n",
        "from sklearn.naive_bayes import GaussianNB\n",
        "from sklearn.neighbors import KNeighborsClassifier\n",
        "from xgboost import XGBClassifier\n",
        "\n",
        "df = pd.read_csv('input.csv')\n",
        "df_output = pd.read_csv('output.csv')\n",
        "df['label'] = df_output['label']  # 1: FAKE, 0: REAL\n",
        "\n",
        "df['sentiment_label_encoded'] = LabelEncoder().fit_transform(df['sentiment_label'])\n",
        "\n",
        "X = df[['title_length', 'text_length', 'sentiment_score', 'sentiment_label_encoded']]\n",
        "y = df['label']\n",
        "\n",
        "# 정규화 과정\n",
        "scaler = StandardScaler()\n",
        "X_scaled = scaler.fit_transform(X)\n",
        "X_train, X_test, y_train, y_test = train_test_split(\n",
        "    X_scaled, y, test_size=0.2, random_state=42\n",
        ")\n",
        "\n",
        "# 모델 정의 (가장 높은 정확성의 모델 선택하기 위한 테스트)\n",
        "models = {\n",
        "    \"Logistic Regression\": LogisticRegression(max_iter=1000),\n",
        "    \"Random Forest\": RandomForestClassifier(),\n",
        "    \"XGBoost\": XGBClassifier(use_label_encoder=False, eval_metric='logloss'),\n",
        "    \"SVM\": SVC(),\n",
        "    \"Naive Bayes\": GaussianNB(),\n",
        "    \"KNN\": KNeighborsClassifier()\n",
        "}\n",
        "\n",
        "# 모델 학습 및 평가\n",
        "results = []\n",
        "\n",
        "for name, model in models.items():\n",
        "    model.fit(X_train, y_train)\n",
        "    y_pred = model.predict(X_test)\n",
        "    acc = accuracy_score(y_test, y_pred)\n",
        "    f1 = f1_score(y_test, y_pred)\n",
        "    results.append((name, acc, f1))\n",
        "\n",
        "    print(f\"📌 {name}\")\n",
        "    print(classification_report(y_test, y_pred, target_names=[\"FAKE\", \"REAL\"]))\n",
        "    print(\"-\" * 50)\n",
        "\n",
        "results_df = pd.DataFrame(results, columns=[\"Model\", \"Accuracy\", \"F1 Score\"])\n",
        "results_df = results_df.sort_values(by=\"F1 Score\", ascending=False)\n",
        "\n",
        "print(\"\\n🎯 모델 성능 비교:\")\n",
        "print(results_df)"
      ]
    },
    {
      "cell_type": "markdown",
      "source": [
        "## ! 모델 성능 비교 결과 해석"
      ],
      "metadata": {
        "id": "LgQcSvIhQ7dC"
      }
    },
    {
      "cell_type": "markdown",
      "source": [
        "| 순위   | 모델 이름                   | 정확도 (Accuracy) | F1 Score  | 해석 요약                             |\n",
        "| ---- | ----------------------- | -------------- | --------- | --------------------------------- |\n",
        "| 🥇 1 | **Random Forest**       | 84.2%          | **0.849** | 가장 높은 F1 점수 → FAKE/REAL 모두 잘 분류   |\n",
        "| 🥈 2 | **XGBoost**             | **84.5%**      | 0.846     | 정확도는 제일 높음, 하지만 F1은 RF보다 살짝 낮음    |\n",
        "| 🥉 3 | **KNN**                 | 82.1%          | 0.826     | 꽤 선방했지만 주변 이웃이 많아질수록 정확도 흔들릴 수 있음 |\n",
        "| 4    | **SVM**                 | 82.3%          | 0.819     | 마진 기반 분류지만 정규화된 수치만 사용했을 경우 한계    |\n",
        "| 5    | **Logistic Regression** | 81.2%          | 0.816     | 기본 모델로 나쁘지 않음, 해석은 쉬움             |\n",
        "| 6    | **Naive Bayes**         | 79.2%          | 0.780     | 간단하고 빠르지만 텍스트 특성 반영 부족            |\n"
      ],
      "metadata": {
        "id": "pIcc3X3UQ6xq"
      }
    },
    {
      "cell_type": "markdown",
      "source": [
        "## Random Forest 모델로 확정!!"
      ],
      "metadata": {
        "id": "EcFgMBaJVHzP"
      }
    },
    {
      "cell_type": "code",
      "source": [
        "from sklearn.metrics import confusion_matrix, ConfusionMatrixDisplay\n",
        "import matplotlib.pyplot as plt\n",
        "\n",
        "# 예측\n",
        "y_pred = models[\"Random Forest\"].predict(X_test)\n",
        "\n",
        "# 혼동 행렬 생성 및 시각화\n",
        "cm = confusion_matrix(y_test, y_pred)\n",
        "disp = ConfusionMatrixDisplay(confusion_matrix=cm, display_labels=[\"FAKE\", \"REAL\"])\n",
        "disp.plot(cmap=\"Blues\")\n",
        "plt.title(\"📊 Confusion Matrix - Random Forest\")\n",
        "plt.show()"
      ],
      "metadata": {
        "colab": {
          "base_uri": "https://localhost:8080/",
          "height": 509
        },
        "id": "NSdHkv2YQ7G0",
        "outputId": "67ed742f-40ea-4018-f1d1-94e9e5c00ca2"
      },
      "execution_count": 5,
      "outputs": [
        {
          "output_type": "stream",
          "name": "stderr",
          "text": [
            "/usr/local/lib/python3.11/dist-packages/IPython/core/pylabtools.py:151: UserWarning: Glyph 128202 (\\N{BAR CHART}) missing from font(s) DejaVu Sans.\n",
            "  fig.canvas.print_figure(bytes_io, **kw)\n"
          ]
        },
        {
          "output_type": "display_data",
          "data": {
            "text/plain": [
              "<Figure size 640x480 with 2 Axes>"
            ],
            "image/png": "[encoded data removed]"
          },
          "metadata": {}
        }
      ]
    },
    {
      "cell_type": "code",
      "source": [
        "importances = models[\"Random Forest\"].feature_importances_\n",
        "feature_names = X.columns\n",
        "\n",
        "plt.figure(figsize=(8, 5))\n",
        "plt.barh(feature_names, importances, color=\"skyblue\")\n",
        "plt.xlabel(\"Importance\")\n",
        "plt.title(\"Feature Importance (Random Forest)\")\n",
        "plt.tight_layout()\n",
        "plt.show()"
      ],
      "metadata": {
        "colab": {
          "base_uri": "https://localhost:8080/",
          "height": 507
        },
        "id": "3V6S01VQSt-A",
        "outputId": "e5bacddc-6ddf-407b-fa16-9fa38634b2d0"
      },
      "execution_count": 6,
      "outputs": [
        {
          "output_type": "display_data",
          "data": {
            "text/plain": [
              "<Figure size 800x500 with 1 Axes>"
            ],
            "image/png": "[encoded data removed]"
          },
          "metadata": {}
        }
      ]
    },
    {
      "cell_type": "markdown",
      "source": [
        "## 임의로 테스트한 코드"
      ],
      "metadata": {
        "id": "XXc8jfO8zi4v"
      }
    },
    {
      "cell_type": "code",
      "source": [
        "from nltk.sentiment.vader import SentimentIntensityAnalyzer\n",
        "import nltk\n",
        "\n",
        "title = \"Shocking! COVID-19 vaccine turns people into zombies, says secret report\"\n",
        "text = \"\"\"\n",
        "A leaked document from a so-called whistleblower claims that the COVID-19 vaccine alters human DNA\n",
        "and causes irreversible brain damage. Experts are warning that a major cover-up is underway.\n",
        "\"\"\"\n",
        "\n",
        "title_length = len(title.split())\n",
        "text_length = len(text.split())\n",
        "\n",
        "nltk.download('vader_lexicon')\n",
        "sid = SentimentIntensityAnalyzer()\n",
        "sentiment_score = sid.polarity_scores(title)['compound']\n",
        "\n",
        "def classify_sentiment(score):\n",
        "    if score >= 0.05:\n",
        "        return 'positive'\n",
        "    elif score <= -0.05:\n",
        "        return 'negative'\n",
        "    else:\n",
        "        return 'neutral'\n",
        "\n",
        "sentiment_label = classify_sentiment(sentiment_score)\n",
        "\n",
        "# 숫자 인코딩 (기존 학습된 encoder 사용)\n",
        "sentiment_label_encoded = LabelEncoder().fit(['negative', 'neutral', 'positive']).transform([sentiment_label])[0]\n",
        "\n",
        "input_vector = [[title_length, text_length, sentiment_score, sentiment_label_encoded]]\n",
        "\n",
        "input_scaled = scaler.transform(input_vector)\n",
        "\n",
        "prediction = models[\"Random Forest\"].predict(input_scaled)[0]\n",
        "\n",
        "# 0 = REAL, 1 = FAKE\n",
        "proba = models[\"Random Forest\"].predict_proba(input_scaled)[0]\n",
        "fake_prob = proba[1]\n",
        "real_prob = proba[0]\n",
        "\n",
        "if real_prob > 0.8:\n",
        "    print(\"✅ 매우 신뢰할 수 있는 REAL 기사입니다.\")\n",
        "elif real_prob > 0.6:\n",
        "    print(\"⚠️ 신뢰도 중간 정도입니다.\")\n",
        "else:\n",
        "    print(\"❗ FAKE일 가능성도 있습니다. 추가 확인 필요.\")\n",
        "\n",
        "print(f\"🧠 예측 결과: {'REAL' if real_prob > fake_prob else 'FAKE'}\")\n",
        "print(f\"🔍 FAKE 확률: {fake_prob * 100:.1f}%\")\n",
        "print(f\"🔍 REAL 확률: {real_prob * 100:.1f}%\")"
      ],
      "metadata": {
        "colab": {
          "base_uri": "https://localhost:8080/"
        },
        "id": "E5K-_bYQTMka",
        "outputId": "f33de82d-e1b7-43ef-c34c-67f93c8aa737"
      },
      "execution_count": 18,
      "outputs": [
        {
          "output_type": "stream",
          "name": "stdout",
          "text": [
            "⚠️ 신뢰도 중간 정도입니다.\n",
            "🧠 예측 결과: REAL\n",
            "🔍 FAKE 확률: 31.0%\n",
            "🔍 REAL 확률: 69.0%\n"
          ]
        },
        {
          "output_type": "stream",
          "name": "stderr",
          "text": [
            "[nltk_data] Downloading package vader_lexicon to /root/nltk_data...\n",
            "[nltk_data]   Package vader_lexicon is already up-to-date!\n",
            "/usr/local/lib/python3.11/dist-packages/sklearn/utils/validation.py:2739: UserWarning: X does not have valid feature names, but StandardScaler was fitted with feature names\n",
            "  warnings.warn(\n"
          ]
        }
      ]
    }
  ]
}